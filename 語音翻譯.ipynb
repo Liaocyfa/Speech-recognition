{
 "cells": [
  {
   "cell_type": "code",
   "execution_count": 2,
   "id": "d8fb2293-fe76-4af4-84ea-2f20e7cdaa76",
   "metadata": {
    "collapsed": true,
    "jupyter": {
     "outputs_hidden": true
    }
   },
   "outputs": [
    {
     "name": "stdout",
     "output_type": "stream",
     "text": [
      "Collecting googletrans==3.1.0a0\n",
      "  Downloading googletrans-3.1.0a0.tar.gz (19 kB)\n",
      "  Preparing metadata (setup.py): started\n",
      "  Preparing metadata (setup.py): finished with status 'done'\n",
      "Collecting httpx==0.13.3 (from googletrans==3.1.0a0)\n",
      "  Downloading httpx-0.13.3-py3-none-any.whl.metadata (25 kB)\n",
      "Requirement already satisfied: certifi in c:\\users\\user\\anaconda3\\lib\\site-packages (from httpx==0.13.3->googletrans==3.1.0a0) (2024.2.2)\n",
      "Collecting hstspreload (from httpx==0.13.3->googletrans==3.1.0a0)\n",
      "  Downloading hstspreload-2024.5.1-py3-none-any.whl.metadata (2.1 kB)\n",
      "Requirement already satisfied: sniffio in c:\\users\\user\\anaconda3\\lib\\site-packages (from httpx==0.13.3->googletrans==3.1.0a0) (1.3.0)\n",
      "Collecting chardet==3.* (from httpx==0.13.3->googletrans==3.1.0a0)\n",
      "  Downloading chardet-3.0.4-py2.py3-none-any.whl.metadata (3.2 kB)\n",
      "Collecting idna==2.* (from httpx==0.13.3->googletrans==3.1.0a0)\n",
      "  Downloading idna-2.10-py2.py3-none-any.whl.metadata (9.1 kB)\n",
      "Collecting rfc3986<2,>=1.3 (from httpx==0.13.3->googletrans==3.1.0a0)\n",
      "  Downloading rfc3986-1.5.0-py2.py3-none-any.whl.metadata (6.5 kB)\n",
      "Collecting httpcore==0.9.* (from httpx==0.13.3->googletrans==3.1.0a0)\n",
      "  Downloading httpcore-0.9.1-py3-none-any.whl.metadata (4.6 kB)\n",
      "Collecting h11<0.10,>=0.8 (from httpcore==0.9.*->httpx==0.13.3->googletrans==3.1.0a0)\n",
      "  Downloading h11-0.9.0-py2.py3-none-any.whl.metadata (8.1 kB)\n",
      "Collecting h2==3.* (from httpcore==0.9.*->httpx==0.13.3->googletrans==3.1.0a0)\n",
      "  Downloading h2-3.2.0-py2.py3-none-any.whl.metadata (32 kB)\n",
      "Collecting hyperframe<6,>=5.2.0 (from h2==3.*->httpcore==0.9.*->httpx==0.13.3->googletrans==3.1.0a0)\n",
      "  Downloading hyperframe-5.2.0-py2.py3-none-any.whl.metadata (7.2 kB)\n",
      "Collecting hpack<4,>=3.0 (from h2==3.*->httpcore==0.9.*->httpx==0.13.3->googletrans==3.1.0a0)\n",
      "  Downloading hpack-3.0.0-py2.py3-none-any.whl.metadata (7.0 kB)\n",
      "Downloading httpx-0.13.3-py3-none-any.whl (55 kB)\n",
      "   ---------------------------------------- 0.0/55.1 kB ? eta -:--:--\n",
      "   ---------------------------------------- 55.1/55.1 kB 2.8 MB/s eta 0:00:00\n",
      "Downloading chardet-3.0.4-py2.py3-none-any.whl (133 kB)\n",
      "   ---------------------------------------- 0.0/133.4 kB ? eta -:--:--\n",
      "   ---------------------------------------- 133.4/133.4 kB 2.6 MB/s eta 0:00:00\n",
      "Downloading httpcore-0.9.1-py3-none-any.whl (42 kB)\n",
      "   ---------------------------------------- 0.0/42.6 kB ? eta -:--:--\n",
      "   ---------------------------------------- 42.6/42.6 kB ? eta 0:00:00\n",
      "Downloading idna-2.10-py2.py3-none-any.whl (58 kB)\n",
      "   ---------------------------------------- 0.0/58.8 kB ? eta -:--:--\n",
      "   ---------------------------------------- 58.8/58.8 kB 1.6 MB/s eta 0:00:00\n",
      "Downloading h2-3.2.0-py2.py3-none-any.whl (65 kB)\n",
      "   ---------------------------------------- 0.0/65.0 kB ? eta -:--:--\n",
      "   ---------------------------------------- 65.0/65.0 kB 3.4 MB/s eta 0:00:00\n",
      "Downloading rfc3986-1.5.0-py2.py3-none-any.whl (31 kB)\n",
      "Downloading hstspreload-2024.5.1-py3-none-any.whl (1.1 MB)\n",
      "   ---------------------------------------- 0.0/1.1 MB ? eta -:--:--\n",
      "   --------------- ------------------------ 0.4/1.1 MB 9.2 MB/s eta 0:00:01\n",
      "   --------------------------------- ------ 1.0/1.1 MB 10.2 MB/s eta 0:00:01\n",
      "   ---------------------------------------- 1.1/1.1 MB 10.3 MB/s eta 0:00:00\n",
      "Downloading h11-0.9.0-py2.py3-none-any.whl (53 kB)\n",
      "   ---------------------------------------- 0.0/53.6 kB ? eta -:--:--\n",
      "   ---------------------------------------- 53.6/53.6 kB ? eta 0:00:00\n",
      "Downloading hpack-3.0.0-py2.py3-none-any.whl (38 kB)\n",
      "Downloading hyperframe-5.2.0-py2.py3-none-any.whl (12 kB)\n",
      "Building wheels for collected packages: googletrans\n",
      "  Building wheel for googletrans (setup.py): started\n",
      "  Building wheel for googletrans (setup.py): finished with status 'done'\n",
      "  Created wheel for googletrans: filename=googletrans-3.1.0a0-py3-none-any.whl size=16414 sha256=6fef06e79b47111f56349306f7274e40ff4e0ad839eec2808c32bfdb8c4fe48c\n",
      "  Stored in directory: c:\\users\\user\\appdata\\local\\pip\\cache\\wheels\\81\\f2\\e0\\d578821d723b473d18610ea93810e4a5402463919f07e603d9\n",
      "Successfully built googletrans\n",
      "Installing collected packages: rfc3986, hyperframe, hpack, h11, chardet, idna, hstspreload, h2, httpcore, httpx, googletrans\n",
      "  Attempting uninstall: chardet\n",
      "    Found existing installation: chardet 4.0.0\n",
      "    Uninstalling chardet-4.0.0:\n",
      "      Successfully uninstalled chardet-4.0.0\n",
      "  Attempting uninstall: idna\n",
      "    Found existing installation: idna 3.4\n",
      "    Uninstalling idna-3.4:\n",
      "      Successfully uninstalled idna-3.4\n",
      "Successfully installed chardet-3.0.4 googletrans-3.1.0a0 h11-0.9.0 h2-3.2.0 hpack-3.0.0 hstspreload-2024.5.1 httpcore-0.9.1 httpx-0.13.3 hyperframe-5.2.0 idna-2.10 rfc3986-1.5.0\n"
     ]
    }
   ],
   "source": [
    "!pip install googletrans==3.1.0a0"
   ]
  },
  {
   "cell_type": "code",
   "execution_count": 3,
   "id": "bb7e9440-a76b-4e93-93e6-7e584db59ea0",
   "metadata": {},
   "outputs": [],
   "source": [
    "import speech_recognition\n",
    "import tempfile\n",
    "from gtts import gTTS\n",
    "from pygame import mixer\n",
    "from googletrans import Translator"
   ]
  },
  {
   "cell_type": "code",
   "execution_count": 4,
   "id": "b30dc711-dfdc-49b4-93ef-c98d29892cc0",
   "metadata": {},
   "outputs": [],
   "source": [
    "def listenTo():\n",
    "    r=speech_recognition.Recognizer()\n",
    "    with speech_recognition.Microphone() as source:\n",
    "        r.adjust_for_ambient_noise(source)\n",
    "        audio=r.listen(source)\n",
    "    return r.recognize_google(audio, language='zh-TW')"
   ]
  },
  {
   "cell_type": "code",
   "execution_count": 6,
   "id": "4432424d-cea5-40e2-a4f7-adc5a349807b",
   "metadata": {},
   "outputs": [],
   "source": [
    "def speak(sentence,lang):\n",
    "    mixer.init()\n",
    "    with tempfile.NamedTemporaryFile(delete=True) as fp:\n",
    "        tts=gTTS(text=sentence,lang=lang)\n",
    "        tts.save(\"{}.mp3\".format(fp.name))\n",
    "        mixer.music.load('{}.mp3'.format(fp.name))\n",
    "        mixer.music.play()"
   ]
  },
  {
   "cell_type": "code",
   "execution_count": 9,
   "id": "a0c09e1a-c2f4-44ba-927c-c751ee4d4c2b",
   "metadata": {},
   "outputs": [
    {
     "data": {
      "text/plain": [
       "'how is the weather today?'"
      ]
     },
     "execution_count": 9,
     "metadata": {},
     "output_type": "execute_result"
    }
   ],
   "source": [
    "translator=Translator()\n",
    "translator.translate('今天天氣如何?', dest='en').text"
   ]
  },
  {
   "cell_type": "code",
   "execution_count": 11,
   "id": "727678e9-6502-4533-bde4-ca25563b73d3",
   "metadata": {},
   "outputs": [
    {
     "name": "stdout",
     "output_type": "stream",
     "text": [
      "今日は月曜日です\n",
      "Translated(src=ja, dest=ja, text=今日は月曜日です, pronunciation=Kyō wa getsuyōbidesu, extra_data=\"{'translat...\")\n"
     ]
    }
   ],
   "source": [
    "lang='ja'\n",
    "A=translator.translate(listenTo(),lang).text\n",
    "speak(A,lang)\n",
    "print(A)\n",
    "B=translator.translate(A,dest='ja')\n",
    "print(B)"
   ]
  },
  {
   "cell_type": "code",
   "execution_count": 14,
   "id": "81b22cb4-7ec4-4282-ae18-2e0a18867f64",
   "metadata": {},
   "outputs": [
    {
     "name": "stdout",
     "output_type": "stream",
     "text": [
      "오늘은 후라이드 치킨을 먹고 싶어요\n",
      "Translated(src=ko, dest=ko, text=오늘은 후라이드 치킨을 먹고 싶어요, pronunciation=oneul-eun hulaideu chikin-eul meoggo sip-eoyo, extra_data=\"{'translat...\")\n"
     ]
    }
   ],
   "source": [
    "lang='ko'\n",
    "A=translator.translate(listenTo(),lang).text\n",
    "speak(A,lang)\n",
    "print(A)\n",
    "B=translator.translate(A,dest='ko')\n",
    "print(B)"
   ]
  },
  {
   "cell_type": "code",
   "execution_count": 15,
   "id": "d96484ab-eb66-46a4-a17d-d6941cb8c5c9",
   "metadata": {
    "scrolled": true
   },
   "outputs": [
    {
     "name": "stdout",
     "output_type": "stream",
     "text": [
      "{'afrikaans': 'af',\n",
      " 'albanian': 'sq',\n",
      " 'amharic': 'am',\n",
      " 'arabic': 'ar',\n",
      " 'armenian': 'hy',\n",
      " 'azerbaijani': 'az',\n",
      " 'basque': 'eu',\n",
      " 'belarusian': 'be',\n",
      " 'bengali': 'bn',\n",
      " 'bosnian': 'bs',\n",
      " 'bulgarian': 'bg',\n",
      " 'catalan': 'ca',\n",
      " 'cebuano': 'ceb',\n",
      " 'chichewa': 'ny',\n",
      " 'chinese (simplified)': 'zh-cn',\n",
      " 'chinese (traditional)': 'zh-tw',\n",
      " 'corsican': 'co',\n",
      " 'croatian': 'hr',\n",
      " 'czech': 'cs',\n",
      " 'danish': 'da',\n",
      " 'dutch': 'nl',\n",
      " 'english': 'en',\n",
      " 'esperanto': 'eo',\n",
      " 'estonian': 'et',\n",
      " 'filipino': 'tl',\n",
      " 'finnish': 'fi',\n",
      " 'french': 'fr',\n",
      " 'frisian': 'fy',\n",
      " 'galician': 'gl',\n",
      " 'georgian': 'ka',\n",
      " 'german': 'de',\n",
      " 'greek': 'el',\n",
      " 'gujarati': 'gu',\n",
      " 'haitian creole': 'ht',\n",
      " 'hausa': 'ha',\n",
      " 'hawaiian': 'haw',\n",
      " 'hebrew': 'he',\n",
      " 'hindi': 'hi',\n",
      " 'hmong': 'hmn',\n",
      " 'hungarian': 'hu',\n",
      " 'icelandic': 'is',\n",
      " 'igbo': 'ig',\n",
      " 'indonesian': 'id',\n",
      " 'irish': 'ga',\n",
      " 'italian': 'it',\n",
      " 'japanese': 'ja',\n",
      " 'javanese': 'jw',\n",
      " 'kannada': 'kn',\n",
      " 'kazakh': 'kk',\n",
      " 'khmer': 'km',\n",
      " 'korean': 'ko',\n",
      " 'kurdish (kurmanji)': 'ku',\n",
      " 'kyrgyz': 'ky',\n",
      " 'lao': 'lo',\n",
      " 'latin': 'la',\n",
      " 'latvian': 'lv',\n",
      " 'lithuanian': 'lt',\n",
      " 'luxembourgish': 'lb',\n",
      " 'macedonian': 'mk',\n",
      " 'malagasy': 'mg',\n",
      " 'malay': 'ms',\n",
      " 'malayalam': 'ml',\n",
      " 'maltese': 'mt',\n",
      " 'maori': 'mi',\n",
      " 'marathi': 'mr',\n",
      " 'mongolian': 'mn',\n",
      " 'myanmar (burmese)': 'my',\n",
      " 'nepali': 'ne',\n",
      " 'norwegian': 'no',\n",
      " 'odia': 'or',\n",
      " 'pashto': 'ps',\n",
      " 'persian': 'fa',\n",
      " 'polish': 'pl',\n",
      " 'portuguese': 'pt',\n",
      " 'punjabi': 'pa',\n",
      " 'romanian': 'ro',\n",
      " 'russian': 'ru',\n",
      " 'samoan': 'sm',\n",
      " 'scots gaelic': 'gd',\n",
      " 'serbian': 'sr',\n",
      " 'sesotho': 'st',\n",
      " 'shona': 'sn',\n",
      " 'sindhi': 'sd',\n",
      " 'sinhala': 'si',\n",
      " 'slovak': 'sk',\n",
      " 'slovenian': 'sl',\n",
      " 'somali': 'so',\n",
      " 'spanish': 'es',\n",
      " 'sundanese': 'su',\n",
      " 'swahili': 'sw',\n",
      " 'swedish': 'sv',\n",
      " 'tajik': 'tg',\n",
      " 'tamil': 'ta',\n",
      " 'telugu': 'te',\n",
      " 'thai': 'th',\n",
      " 'turkish': 'tr',\n",
      " 'ukrainian': 'uk',\n",
      " 'urdu': 'ur',\n",
      " 'uyghur': 'ug',\n",
      " 'uzbek': 'uz',\n",
      " 'vietnamese': 'vi',\n",
      " 'welsh': 'cy',\n",
      " 'xhosa': 'xh',\n",
      " 'yiddish': 'yi',\n",
      " 'yoruba': 'yo',\n",
      " 'zulu': 'zu'}\n"
     ]
    }
   ],
   "source": [
    "import googletrans\n",
    "from pprint import pprint\n",
    "pprint(googletrans.LANGCODES)"
   ]
  },
  {
   "cell_type": "code",
   "execution_count": 20,
   "id": "8b9333c4-62cd-492e-8913-370657278719",
   "metadata": {},
   "outputs": [
    {
     "name": "stdout",
     "output_type": "stream",
     "text": [
      "Detected(lang=et, confidence=1)\n",
      "et\n"
     ]
    }
   ],
   "source": [
    "unknown_sentence='sööma minna'#愛沙尼亞文\n",
    "results=translator.detect(unknown_sentence)\n",
    "print(results)\n",
    "print(results.lang)"
   ]
  }
 ],
 "metadata": {
  "kernelspec": {
   "display_name": "Python 3 (ipykernel)",
   "language": "python",
   "name": "python3"
  },
  "language_info": {
   "codemirror_mode": {
    "name": "ipython",
    "version": 3
   },
   "file_extension": ".py",
   "mimetype": "text/x-python",
   "name": "python",
   "nbconvert_exporter": "python",
   "pygments_lexer": "ipython3",
   "version": "3.11.7"
  }
 },
 "nbformat": 4,
 "nbformat_minor": 5
}
