{
 "cells": [
  {
   "cell_type": "code",
   "execution_count": 1,
   "id": "4dd497c8",
   "metadata": {},
   "outputs": [],
   "source": [
    "#重複需 kernel/restart"
   ]
  },
  {
   "cell_type": "code",
   "execution_count": 1,
   "id": "e5e7a8bb",
   "metadata": {},
   "outputs": [
    {
     "name": "stdout",
     "output_type": "stream",
     "text": [
      "Collecting gTTS\n",
      "  Using cached gTTS-2.5.1-py3-none-any.whl.metadata (4.1 kB)\n",
      "Requirement already satisfied: requests<3,>=2.27 in c:\\users\\user\\anaconda3\\lib\\site-packages (from gTTS) (2.31.0)\n",
      "Requirement already satisfied: click<8.2,>=7.1 in c:\\users\\user\\anaconda3\\lib\\site-packages (from gTTS) (8.1.7)\n",
      "Requirement already satisfied: colorama in c:\\users\\user\\anaconda3\\lib\\site-packages (from click<8.2,>=7.1->gTTS) (0.4.6)\n",
      "Requirement already satisfied: charset-normalizer<4,>=2 in c:\\users\\user\\anaconda3\\lib\\site-packages (from requests<3,>=2.27->gTTS) (2.0.4)\n",
      "Requirement already satisfied: idna<4,>=2.5 in c:\\users\\user\\anaconda3\\lib\\site-packages (from requests<3,>=2.27->gTTS) (3.4)\n",
      "Requirement already satisfied: urllib3<3,>=1.21.1 in c:\\users\\user\\anaconda3\\lib\\site-packages (from requests<3,>=2.27->gTTS) (2.0.7)\n",
      "Requirement already satisfied: certifi>=2017.4.17 in c:\\users\\user\\anaconda3\\lib\\site-packages (from requests<3,>=2.27->gTTS) (2024.2.2)\n",
      "Using cached gTTS-2.5.1-py3-none-any.whl (29 kB)\n",
      "Installing collected packages: gTTS\n",
      "Successfully installed gTTS-2.5.1\n"
     ]
    }
   ],
   "source": [
    "! pip install gTTS"
   ]
  },
  {
   "cell_type": "code",
   "execution_count": 2,
   "id": "65da46ab",
   "metadata": {},
   "outputs": [],
   "source": [
    "from gtts import gTTS\n",
    "tts=gTTS(text='威誠你好嗎?',lang='zh-TW')\n",
    "#gTTs(Google Text-to-speech),zh-TW or zh-CN 漢語,en英文,ja日文,fr法文,ru俄語,es西班牙語 \n",
    "tts.save('HiJ.mp3')"
   ]
  },
  {
   "cell_type": "code",
   "execution_count": 4,
   "id": "c5521be3-5ecf-4b04-b16f-db21bf448c5b",
   "metadata": {
    "scrolled": true
   },
   "outputs": [
    {
     "name": "stdout",
     "output_type": "stream",
     "text": [
      "Collecting pygame\n",
      "  Downloading pygame-2.5.2-cp311-cp311-win_amd64.whl.metadata (13 kB)\n",
      "Downloading pygame-2.5.2-cp311-cp311-win_amd64.whl (10.8 MB)\n",
      "   ---------------------------------------- 0.0/10.8 MB ? eta -:--:--\n",
      "   ---------------------------------------- 0.0/10.8 MB ? eta -:--:--\n",
      "   ---------------------------------------- 0.0/10.8 MB ? eta -:--:--\n",
      "   ---------------------------------------- 0.0/10.8 MB 279.3 kB/s eta 0:00:39\n",
      "   ---------------------------------------- 0.0/10.8 MB 279.3 kB/s eta 0:00:39\n",
      "   ---------------------------------------- 0.1/10.8 MB 599.1 kB/s eta 0:00:18\n",
      "    --------------------------------------- 0.1/10.8 MB 655.8 kB/s eta 0:00:17\n",
      "    --------------------------------------- 0.2/10.8 MB 758.5 kB/s eta 0:00:14\n",
      "   - -------------------------------------- 0.3/10.8 MB 981.5 kB/s eta 0:00:11\n",
      "   - -------------------------------------- 0.5/10.8 MB 1.2 MB/s eta 0:00:09\n",
      "   -- ------------------------------------- 0.6/10.8 MB 1.4 MB/s eta 0:00:08\n",
      "   -- ------------------------------------- 0.7/10.8 MB 1.6 MB/s eta 0:00:07\n",
      "   --- ------------------------------------ 1.0/10.8 MB 1.9 MB/s eta 0:00:06\n",
      "   --- ------------------------------------ 1.1/10.8 MB 1.9 MB/s eta 0:00:06\n",
      "   ---- ----------------------------------- 1.3/10.8 MB 2.1 MB/s eta 0:00:05\n",
      "   ----- ---------------------------------- 1.5/10.8 MB 2.2 MB/s eta 0:00:05\n",
      "   ----- ---------------------------------- 1.5/10.8 MB 2.2 MB/s eta 0:00:05\n",
      "   ----- ---------------------------------- 1.5/10.8 MB 2.2 MB/s eta 0:00:05\n",
      "   ----- ---------------------------------- 1.5/10.8 MB 2.2 MB/s eta 0:00:05\n",
      "   ----- ---------------------------------- 1.5/10.8 MB 2.2 MB/s eta 0:00:05\n",
      "   --------- ------------------------------ 2.6/10.8 MB 2.9 MB/s eta 0:00:03\n",
      "   --------- ------------------------------ 2.6/10.8 MB 2.9 MB/s eta 0:00:03\n",
      "   ---------- ----------------------------- 2.7/10.8 MB 2.7 MB/s eta 0:00:03\n",
      "   ---------- ----------------------------- 2.9/10.8 MB 2.8 MB/s eta 0:00:03\n",
      "   ----------- ---------------------------- 3.2/10.8 MB 2.9 MB/s eta 0:00:03\n",
      "   ------------ --------------------------- 3.4/10.8 MB 3.0 MB/s eta 0:00:03\n",
      "   ------------- -------------------------- 3.7/10.8 MB 3.0 MB/s eta 0:00:03\n",
      "   -------------- ------------------------- 3.9/10.8 MB 3.1 MB/s eta 0:00:03\n",
      "   --------------- ------------------------ 4.1/10.8 MB 3.2 MB/s eta 0:00:03\n",
      "   --------------- ------------------------ 4.3/10.8 MB 3.2 MB/s eta 0:00:03\n",
      "   ---------------- ----------------------- 4.5/10.8 MB 3.2 MB/s eta 0:00:02\n",
      "   ----------------- ---------------------- 4.8/10.8 MB 3.3 MB/s eta 0:00:02\n",
      "   ------------------ --------------------- 5.0/10.8 MB 3.4 MB/s eta 0:00:02\n",
      "   ------------------- -------------------- 5.3/10.8 MB 3.5 MB/s eta 0:00:02\n",
      "   -------------------- ------------------- 5.4/10.8 MB 3.4 MB/s eta 0:00:02\n",
      "   --------------------- ------------------ 5.7/10.8 MB 3.5 MB/s eta 0:00:02\n",
      "   --------------------- ------------------ 5.9/10.8 MB 3.5 MB/s eta 0:00:02\n",
      "   ---------------------- ----------------- 6.2/10.8 MB 3.6 MB/s eta 0:00:02\n",
      "   ----------------------- ---------------- 6.3/10.8 MB 3.6 MB/s eta 0:00:02\n",
      "   ------------------------ --------------- 6.6/10.8 MB 3.6 MB/s eta 0:00:02\n",
      "   ------------------------- -------------- 6.8/10.8 MB 3.7 MB/s eta 0:00:02\n",
      "   -------------------------- ------------- 7.1/10.8 MB 3.7 MB/s eta 0:00:02\n",
      "   -------------------------- ------------- 7.2/10.8 MB 3.7 MB/s eta 0:00:01\n",
      "   --------------------------- ------------ 7.4/10.8 MB 3.7 MB/s eta 0:00:01\n",
      "   ---------------------------- ----------- 7.7/10.8 MB 3.8 MB/s eta 0:00:01\n",
      "   ----------------------------- ---------- 7.8/10.8 MB 3.7 MB/s eta 0:00:01\n",
      "   ----------------------------- ---------- 8.0/10.8 MB 3.7 MB/s eta 0:00:01\n",
      "   ----------------------------- ---------- 8.0/10.8 MB 3.7 MB/s eta 0:00:01\n",
      "   ----------------------------- ---------- 8.0/10.8 MB 3.7 MB/s eta 0:00:01\n",
      "   ----------------------------- ---------- 8.0/10.8 MB 3.7 MB/s eta 0:00:01\n",
      "   ----------------------------- ---------- 8.0/10.8 MB 3.7 MB/s eta 0:00:01\n",
      "   ------------------------------ --------- 8.2/10.8 MB 3.5 MB/s eta 0:00:01\n",
      "   -------------------------------- ------- 8.7/10.8 MB 3.6 MB/s eta 0:00:01\n",
      "   -------------------------------- ------- 8.8/10.8 MB 3.5 MB/s eta 0:00:01\n",
      "   ------------------------------------ --- 9.9/10.8 MB 3.9 MB/s eta 0:00:01\n",
      "   ------------------------------------- -- 10.1/10.8 MB 3.9 MB/s eta 0:00:01\n",
      "   -------------------------------------- - 10.3/10.8 MB 4.2 MB/s eta 0:00:01\n",
      "   ---------------------------------------  10.7/10.8 MB 4.5 MB/s eta 0:00:01\n",
      "   ---------------------------------------  10.8/10.8 MB 4.5 MB/s eta 0:00:01\n",
      "   ---------------------------------------- 10.8/10.8 MB 4.4 MB/s eta 0:00:00\n",
      "Installing collected packages: pygame\n",
      "Successfully installed pygame-2.5.2\n",
      "Note: you may need to restart the kernel to use updated packages.\n"
     ]
    }
   ],
   "source": [
    "pip install pygame"
   ]
  },
  {
   "cell_type": "code",
   "execution_count": 1,
   "id": "50f0580d",
   "metadata": {
    "scrolled": true
   },
   "outputs": [
    {
     "name": "stdout",
     "output_type": "stream",
     "text": [
      "pygame 2.5.2 (SDL 2.28.3, Python 3.11.7)\n",
      "Hello from the pygame community. https://www.pygame.org/contribute.html\n"
     ]
    }
   ],
   "source": [
    "from pygame import mixer\n",
    "mixer.init()\n",
    "mixer.music.load('HiJ.mp3')\n",
    "mixer.music.play()"
   ]
  },
  {
   "cell_type": "code",
   "execution_count": 2,
   "id": "814b1462",
   "metadata": {},
   "outputs": [],
   "source": [
    "from gtts import gTTS\n",
    "ttsl=gTTS(text='How are you?', lang='en')\n",
    "ttsl.save('英文問好.mp3')"
   ]
  },
  {
   "cell_type": "code",
   "execution_count": 3,
   "id": "b1c7bc8a",
   "metadata": {},
   "outputs": [],
   "source": [
    "from pygame import mixer\n",
    "mixer.init()\n",
    "mixer.music.load('英文問好.mp3')\n",
    "mixer.music.play()"
   ]
  },
  {
   "cell_type": "code",
   "execution_count": 4,
   "id": "ec71c7d8",
   "metadata": {},
   "outputs": [],
   "source": [
    "#temp file\n",
    "import tempfile\n",
    "def speak(sentence):\n",
    "    with tempfile.NamedTemporaryFile(delete=True) as fp:\n",
    "        tts=gTTS(text=sentence, lang='zh-CN')\n",
    "        tts.save(\"{}.mp3\".format(fp.name))\n",
    "        mixer.music.load('{}.mp3'.format(fp.name))\n",
    "        mixer.music.play()"
   ]
  },
  {
   "cell_type": "code",
   "execution_count": 5,
   "id": "12bfc534",
   "metadata": {},
   "outputs": [],
   "source": [
    "speak('我達達的馬蹄是美麗的錯誤，我不是歸人，是龜仙人')"
   ]
  },
  {
   "cell_type": "code",
   "execution_count": 6,
   "id": "8b0c1192",
   "metadata": {},
   "outputs": [],
   "source": [
    "import tempfile\n",
    "def speak(sentence):\n",
    "    with tempfile.NamedTemporaryFile(delete=True) as fp:\n",
    "        tts=gTTS(text=sentence, lang='en')\n",
    "        tts.save(\"{}.mp3\".format(fp.name))\n",
    "        mixer.music.load('{}.mp3'.format(fp.name))\n",
    "        mixer.music.play()"
   ]
  },
  {
   "cell_type": "code",
   "execution_count": 7,
   "id": "c6f1f4e3",
   "metadata": {},
   "outputs": [],
   "source": [
    "speak(\"Yo! What's up?\")"
   ]
  }
 ],
 "metadata": {
  "kernelspec": {
   "display_name": "Python 3 (ipykernel)",
   "language": "python",
   "name": "python3"
  },
  "language_info": {
   "codemirror_mode": {
    "name": "ipython",
    "version": 3
   },
   "file_extension": ".py",
   "mimetype": "text/x-python",
   "name": "python",
   "nbconvert_exporter": "python",
   "pygments_lexer": "ipython3",
   "version": "3.11.7"
  }
 },
 "nbformat": 4,
 "nbformat_minor": 5
}
