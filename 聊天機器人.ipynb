{
 "cells": [
  {
   "cell_type": "code",
   "execution_count": 1,
   "id": "6265f0b1",
   "metadata": {
    "scrolled": true
   },
   "outputs": [
    {
     "name": "stdout",
     "output_type": "stream",
     "text": [
      "Collecting winspeech\n",
      "  Using cached winspeech-1.0.1-py2.py3-none-any.whl.metadata (2.2 kB)\n",
      "Requirement already satisfied: pywin32 in c:\\users\\user\\anaconda3\\lib\\site-packages (from winspeech) (305.1)\n",
      "Using cached winspeech-1.0.1-py2.py3-none-any.whl (6.9 kB)\n",
      "Installing collected packages: winspeech\n",
      "Successfully installed winspeech-1.0.1\n"
     ]
    }
   ],
   "source": [
    "! pip install winspeech"
   ]
  },
  {
   "cell_type": "code",
   "execution_count": 3,
   "id": "883f55df",
   "metadata": {
    "scrolled": true
   },
   "outputs": [
    {
     "name": "stdout",
     "output_type": "stream",
     "text": [
      "Requirement already satisfied: SpeechRecognition in c:\\users\\user\\anaconda3\\lib\\site-packages (3.10.4)\n",
      "Requirement already satisfied: requests>=2.26.0 in c:\\users\\user\\anaconda3\\lib\\site-packages (from SpeechRecognition) (2.31.0)\n",
      "Requirement already satisfied: typing-extensions in c:\\users\\user\\anaconda3\\lib\\site-packages (from SpeechRecognition) (4.9.0)\n",
      "Requirement already satisfied: charset-normalizer<4,>=2 in c:\\users\\user\\anaconda3\\lib\\site-packages (from requests>=2.26.0->SpeechRecognition) (2.0.4)\n",
      "Requirement already satisfied: idna<4,>=2.5 in c:\\users\\user\\anaconda3\\lib\\site-packages (from requests>=2.26.0->SpeechRecognition) (3.4)\n",
      "Requirement already satisfied: urllib3<3,>=1.21.1 in c:\\users\\user\\anaconda3\\lib\\site-packages (from requests>=2.26.0->SpeechRecognition) (2.0.7)\n",
      "Requirement already satisfied: certifi>=2017.4.17 in c:\\users\\user\\anaconda3\\lib\\site-packages (from requests>=2.26.0->SpeechRecognition) (2024.2.2)\n",
      "Requirement already satisfied: pipwin in c:\\users\\user\\anaconda3\\lib\\site-packages (0.5.2)\n",
      "Requirement already satisfied: docopt in c:\\users\\user\\anaconda3\\lib\\site-packages (from pipwin) (0.6.2)\n",
      "Requirement already satisfied: requests in c:\\users\\user\\anaconda3\\lib\\site-packages (from pipwin) (2.31.0)\n",
      "Requirement already satisfied: pyprind in c:\\users\\user\\anaconda3\\lib\\site-packages (from pipwin) (2.11.3)\n",
      "Requirement already satisfied: six in c:\\users\\user\\anaconda3\\lib\\site-packages (from pipwin) (1.16.0)\n",
      "Requirement already satisfied: beautifulsoup4>=4.9.0 in c:\\users\\user\\anaconda3\\lib\\site-packages (from pipwin) (4.12.2)\n",
      "Requirement already satisfied: js2py in c:\\users\\user\\anaconda3\\lib\\site-packages (from pipwin) (0.74)\n",
      "Requirement already satisfied: packaging in c:\\users\\user\\anaconda3\\lib\\site-packages (from pipwin) (23.1)\n",
      "Requirement already satisfied: pySmartDL>=1.3.1 in c:\\users\\user\\anaconda3\\lib\\site-packages (from pipwin) (1.3.4)\n",
      "Requirement already satisfied: soupsieve>1.2 in c:\\users\\user\\anaconda3\\lib\\site-packages (from beautifulsoup4>=4.9.0->pipwin) (2.5)\n",
      "Requirement already satisfied: tzlocal>=1.2 in c:\\users\\user\\anaconda3\\lib\\site-packages (from js2py->pipwin) (2.1)\n",
      "Requirement already satisfied: pyjsparser>=2.5.1 in c:\\users\\user\\anaconda3\\lib\\site-packages (from js2py->pipwin) (2.7.1)\n",
      "Requirement already satisfied: charset-normalizer<4,>=2 in c:\\users\\user\\anaconda3\\lib\\site-packages (from requests->pipwin) (2.0.4)\n",
      "Requirement already satisfied: idna<4,>=2.5 in c:\\users\\user\\anaconda3\\lib\\site-packages (from requests->pipwin) (3.4)\n",
      "Requirement already satisfied: urllib3<3,>=1.21.1 in c:\\users\\user\\anaconda3\\lib\\site-packages (from requests->pipwin) (2.0.7)\n",
      "Requirement already satisfied: certifi>=2017.4.17 in c:\\users\\user\\anaconda3\\lib\\site-packages (from requests->pipwin) (2024.2.2)\n",
      "Requirement already satisfied: pytz in c:\\users\\user\\anaconda3\\lib\\site-packages (from tzlocal>=1.2->js2py->pipwin) (2023.3.post1)\n",
      "Collecting PyAudio\n",
      "  Downloading PyAudio-0.2.14-cp311-cp311-win_amd64.whl.metadata (2.7 kB)\n",
      "Downloading PyAudio-0.2.14-cp311-cp311-win_amd64.whl (164 kB)\n",
      "   ---------------------------------------- 0.0/164.1 kB ? eta -:--:--\n",
      "   -- ------------------------------------- 10.2/164.1 kB ? eta -:--:--\n",
      "   -- ------------------------------------- 10.2/164.1 kB ? eta -:--:--\n",
      "   ------- ------------------------------- 30.7/164.1 kB 262.6 kB/s eta 0:00:01\n",
      "   --------- ----------------------------- 41.0/164.1 kB 245.8 kB/s eta 0:00:01\n",
      "   ------------------- ------------------- 81.9/164.1 kB 416.7 kB/s eta 0:00:01\n",
      "   ---------------------------- --------- 122.9/164.1 kB 516.7 kB/s eta 0:00:01\n",
      "   -------------------------------------- 164.1/164.1 kB 657.4 kB/s eta 0:00:00\n",
      "Installing collected packages: PyAudio\n",
      "Successfully installed PyAudio-0.2.14\n"
     ]
    }
   ],
   "source": [
    "! pip install SpeechRecognition\n",
    "! pip install pipwin\n",
    "! pip install PyAudio"
   ]
  },
  {
   "cell_type": "code",
   "execution_count": 2,
   "id": "6e744b91",
   "metadata": {},
   "outputs": [],
   "source": [
    "import speech_recognition\n",
    "def listenTo():\n",
    "    r=speech_recognition.Recognizer()\n",
    "    with speech_recognition.Microphone() as source:\n",
    "        r.adjust_for_ambient_noise(source)\n",
    "        audio=r.listen(source)\n",
    "    return r.recognize_google(audio, language='zh-TW')"
   ]
  },
  {
   "cell_type": "code",
   "execution_count": 3,
   "id": "478105ef",
   "metadata": {},
   "outputs": [
    {
     "name": "stdout",
     "output_type": "stream",
     "text": [
      "pygame 2.5.2 (SDL 2.28.3, Python 3.11.7)\n",
      "Hello from the pygame community. https://www.pygame.org/contribute.html\n"
     ]
    }
   ],
   "source": [
    "import tempfile\n",
    "from gtts import gTTS\n",
    "from pygame import mixer\n",
    "mixer.init()"
   ]
  },
  {
   "cell_type": "code",
   "execution_count": 4,
   "id": "92627033",
   "metadata": {},
   "outputs": [],
   "source": [
    "def speak(sentence):\n",
    "    with tempfile.NamedTemporaryFile(delete=True) as fp:\n",
    "        tts=gTTS(text=sentence, lang='zh-TW')\n",
    "        tts.save(\"{}.mp3\".format(fp.name))\n",
    "        mixer.music.load('{}.mp3'.format(fp.name))\n",
    "        mixer.music.play()\n",
    "speak('大家好')"
   ]
  },
  {
   "cell_type": "code",
   "execution_count": 5,
   "id": "9f09e068",
   "metadata": {},
   "outputs": [],
   "source": [
    "qa={'你叫什麼名字':'我叫谷歌妹','請問你幾歲了':'小女子今年90歲囉!',\n",
    "    '你最喜歡的人是誰':'我最喜歡廖同學'}"
   ]
  },
  {
   "cell_type": "code",
   "execution_count": 7,
   "id": "8c99efc1",
   "metadata": {
    "scrolled": true
   },
   "outputs": [],
   "source": [
    "speak(qa.get(listenTo(),'聽不懂,再輸入更多台詞'))"
   ]
  }
 ],
 "metadata": {
  "kernelspec": {
   "display_name": "Python 3 (ipykernel)",
   "language": "python",
   "name": "python3"
  },
  "language_info": {
   "codemirror_mode": {
    "name": "ipython",
    "version": 3
   },
   "file_extension": ".py",
   "mimetype": "text/x-python",
   "name": "python",
   "nbconvert_exporter": "python",
   "pygments_lexer": "ipython3",
   "version": "3.11.7"
  }
 },
 "nbformat": 4,
 "nbformat_minor": 5
}
